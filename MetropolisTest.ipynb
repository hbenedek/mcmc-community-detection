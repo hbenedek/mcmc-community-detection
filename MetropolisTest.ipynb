{
 "cells": [
  {
   "cell_type": "code",
   "execution_count": 1,
   "metadata": {},
   "outputs": [],
   "source": [
    "from utils import *"
   ]
  },
  {
   "cell_type": "code",
   "execution_count": 533,
   "metadata": {},
   "outputs": [],
   "source": [
    "def compute_h(G,a,b,N):\n",
    "    h = np.zeros((N,N))\n",
    "    for i in range(0,N):\n",
    "        for j in range(0,i):\n",
    "            if (i,j) in nx.edges(G):\n",
    "                h[i][j]= 0.5*np.log(a/b)\n",
    "                h[j][i]= 0.5*np.log(a/b) \n",
    "            else:\n",
    "                h[i][j] = 0.5*np.log((N-a)/(N-b))\n",
    "                h[j][i] = 0.5*np.log((N-a)/(N-b))\n",
    "    return h\n",
    "    \n",
    "def olddeltaEnergy(node,x,h):\n",
    "    dE = 0\n",
    "    for i in range(len(x)):\n",
    "        if i!=node:\n",
    "            dE += 2*x[node]*h[node,i]*x[i]\n",
    "    return dE\n",
    "\n",
    "def deltaEnergy(node,x,h):\n",
    "    dE = 0\n",
    "    x = np.array(x)\n",
    "    hnode = np.array(h[node])\n",
    "    dE += 2*x[node]*np.matmul(x,hnode)\n",
    "    return dE\n",
    "\n",
    "def ind_max_list(l):\n",
    "    lmax = 0\n",
    "    indmax = None\n",
    "    for ind,val in enumerate(l):\n",
    "        if val>=lmax:\n",
    "            lmax = val\n",
    "            indmax = ind\n",
    "    return indmax, lmax\n",
    "            "
   ]
  },
  {
   "cell_type": "code",
   "execution_count": 626,
   "metadata": {},
   "outputs": [],
   "source": [
    "\n",
    "#standard loop where I compute the probabilities for each possible transition\n",
    "def loop1(x,pt,N,h,calculation,count):\n",
    "    deltaE = []\n",
    "    \n",
    "    if calculation:\n",
    "        for v in range(N):\n",
    "            deltaE+=[deltaEnergy(v,x,h)]\n",
    "        A = [min([1,np.exp(-dE)]) for dE in deltaE]\n",
    "        pt = [a/N for a in A]\n",
    "        pt += [1-sum(pt)]\n",
    "    new_v = np.random.choice(range(N+1), p=pt)\n",
    "    if (new_v != N):\n",
    "        x[new_v] = -x[new_v]\n",
    "        calculation = True\n",
    "        count = 0\n",
    "    else:\n",
    "        calculation = False\n",
    "        count+=1\n",
    "    sumE = sum(deltaE)\n",
    "    return x,pt,calculation,count,sumE\n",
    "\n",
    "# loop when we first pick a node then compute acceptance\n",
    "def loop2(x,N,h,count):\n",
    "    v = np.random.randint(0, N)\n",
    "    deltaE=deltaEnergy(v,x,h)\n",
    "    A = min([1,np.exp(-deltaE)]) \n",
    "    if random.random() < A:\n",
    "        x[v] = -x[v]\n",
    "        count = 0\n",
    "    else: \n",
    "        count+=1\n",
    "    return x,count\n",
    "    \n",
    "# loop where the transition probability depend linearly upon the variation of the hamiltonian \n",
    "def loop3(x,pt,N,h,calculation,count):\n",
    "    deltaE = []\n",
    "    if calculation:\n",
    "        for v in range(N):\n",
    "            deltaE+=[deltaEnergy(v,x,h)]\n",
    "        maxdE = max(deltaE)\n",
    "        reldE = [maxdE-dE for dE in deltaE]\n",
    "        sumreldE = sum(reldE)\n",
    "        A = [min([1,np.exp(-dE)]) for dE in deltaE]\n",
    "        pt = [a*reldE[ind]/sumreldE for ind,a in enumerate(A)]\n",
    "        pt += [1-sum(pt)]\n",
    "    new_v = np.random.choice(range(N+1), p=pt)\n",
    "    if (new_v != N):\n",
    "        x[new_v] = -x[new_v]\n",
    "        calculation = True\n",
    "        count = 0\n",
    "    else:\n",
    "        calculation = False\n",
    "        count+=1\n",
    "    sumE = sum(deltaE)\n",
    "    return x,pt,calculation,count,sumE\n",
    "\n",
    "\n",
    "# loop where the transition probability depend upon the square variation of the hamiltonian \n",
    "def loop4(x,pt,N,h,calculation,count):\n",
    "    deltaE = []\n",
    "    if calculation:\n",
    "        for v in range(N):\n",
    "            deltaE+=[deltaEnergy(v,x,h)]\n",
    "        maxdE = max(deltaE)\n",
    "        reldE = [np.power(maxdE-dE,2) for dE in deltaE]\n",
    "        sumreldE = sum(reldE)\n",
    "        A = [min([1,np.exp(-dE)]) for dE in deltaE]\n",
    "        pt = [a*reldE[ind]/sumreldE for ind,a in enumerate(A)]\n",
    "        pt += [1-sum(pt)]\n",
    "    new_v = np.random.choice(range(N+1), p=pt)\n",
    "    if (new_v != N):\n",
    "        x[new_v] = -x[new_v]\n",
    "        calculation = True\n",
    "        count = 0\n",
    "    else:\n",
    "        calculation = False\n",
    "        count+=1\n",
    "    sumE = sum(deltaE)\n",
    "    return x,pt,calculation,count,sumE\n",
    "\n",
    "# loop where the transition probability depend upon the power of N of the variation of the hamiltonian. Not really interesting ._.\n",
    "def loop5(x,pt,N,h,calculation,count):\n",
    "    deltaE = []\n",
    "    if calculation:\n",
    "        for v in range(N):\n",
    "            deltaE+=[deltaEnergy(v,x,h)]\n",
    "        maxdE = max(deltaE)\n",
    "        reldE = [np.power(maxdE-dE,N/10) for dE in deltaE]\n",
    "        sumreldE = sum(reldE)\n",
    "        A = [min([1,np.exp(-dE)]) for dE in deltaE]\n",
    "        pt = [a*reldE[ind]/sumreldE for ind,a in enumerate(A)]\n",
    "        pt += [1-sum(pt) if sum(pt)<=1 else 0 ]\n",
    "    new_v = np.random.choice(range(N+1), p=pt)\n",
    "    if (new_v != N):\n",
    "        x[new_v] = -x[new_v]\n",
    "        calculation = True\n",
    "        count = 0\n",
    "    else:\n",
    "        calculation = False\n",
    "        count+=1\n",
    "    sumE = sum(deltaE)\n",
    "    return x,pt,calculation,count,sumE\n",
    "\n",
    "\n",
    "def mtp(G,true_x,n_step,a,b, alg = 'std'):\n",
    "    N = len(true_x)\n",
    "    x= np.random.choice([-1, 1], size=N, p=[0.5, 0.5])\n",
    "    h_matrix = compute_h(G,a,b,N)\n",
    "    q = []\n",
    "    calculation = True\n",
    "    count = 0\n",
    "    pt=[0]\n",
    "    for i in range(n_step):\n",
    "    #while (count<=n_step):\n",
    "        if alg == \"oneshot\":\n",
    "            x,count = loop2(x,N,h_matrix,count)\n",
    "        elif alg == \"dE\":\n",
    "            x,pt,calculation,count,sumE = loop3(x,pt,N,h_matrix,calculation,count)\n",
    "        elif alg == \"std\":\n",
    "            x,pt,calculation,count,sumE = loop1(x,pt,N,h_matrix,calculation,count)\n",
    "        elif alg == \"squared\":\n",
    "            x,pt,calculation,count,sumE = loop4(x,pt,N,h_matrix,calculation,count)\n",
    "        elif alg == \"powerN\":\n",
    "            x,pt,calculation,count,sumE = loop5(x,pt,N,h_matrix,calculation,count)\n",
    "        q+= [np.abs(np.sum(np.array(x)*np.array(true_x)))/N]\n",
    "    return q"
   ]
  },
  {
   "cell_type": "code",
   "execution_count": 657,
   "metadata": {},
   "outputs": [
    {
     "name": "stdout",
     "output_type": "stream",
     "text": [
      "done\n",
      "done\n",
      "done\n",
      "done\n"
     ]
    }
   ],
   "source": [
    "a = 5.9\n",
    "b = 0.1\n",
    "N = 100 \n",
    "max_iter = 20000\n",
    "block1 = np.random.binomial(N, 1/2)\n",
    "block2 = N-block1\n",
    "G = generate_sbm_graph(block1,block2,a,b)\n",
    "true_x = [-1*(1-G.nodes[i][\"block\"]) + G.nodes[i][\"block\"] for i in G.nodes()]\n",
    "q = [mtp(G,true_x,max_iter,a,b,\"std\") for _ in range(20)]\n",
    "print(\"done\")\n",
    "q1= [mtp(G,true_x,max_iter,a,b,\"dE\") for _ in range(20)]\n",
    "print(\"done\")\n",
    "q2= [mtp(G,true_x,max_iter,a,b,\"squared\") for _ in range(20)]\n",
    "print(\"done\")\n",
    "q3= [mtp(G,true_x,max_iter,a,b,\"powerN\") for _ in range(20)]\n"
   ]
  },
  {
   "cell_type": "code",
   "execution_count": 658,
   "metadata": {},
   "outputs": [
    {
     "data": {
      "text/plain": [
       "0.8458333333333335"
      ]
     },
     "execution_count": 658,
     "metadata": {},
     "output_type": "execute_result"
    },
    {
     "data": {
      "image/png": "[encoded data removed]",
      "text/plain": [
       "<Figure size 432x288 with 1 Axes>"
      ]
     },
     "metadata": {
      "needs_background": "light"
     },
     "output_type": "display_data"
    }
   ],
   "source": [
    "import matplotlib.pyplot as plt\n",
    "#for l in q:\n",
    "#    plt.plot(l)\n",
    "means = np.array(q).mean(0)\n",
    "stds = np.array(q).std(0)\n",
    "plt.plot(means)\n",
    "plt.fill_between(range(len(means)),means-stds,means+stds,alpha=.1)\n",
    "sum([sum(a[-30:])/30 for a in q])/len(q)"
   ]
  },
  {
   "cell_type": "code",
   "execution_count": 659,
   "metadata": {},
   "outputs": [
    {
     "data": {
      "text/plain": [
       "0.877033333333334"
      ]
     },
     "execution_count": 659,
     "metadata": {},
     "output_type": "execute_result"
    },
    {
     "data": {
      "image/png": "[encoded data removed]",
      "text/plain": [
       "<Figure size 432x288 with 1 Axes>"
      ]
     },
     "metadata": {
      "needs_background": "light"
     },
     "output_type": "display_data"
    }
   ],
   "source": [
    "#for l in q1:\n",
    "#    plt.plot(l)\n",
    "means = np.array(q1).mean(0)\n",
    "stds = np.array(q1).std(0)\n",
    "plt.plot(means)\n",
    "plt.fill_between(range(len(means)),means-stds,means+stds,alpha=.1)\n",
    "sum([sum(a[-30:])/30 for a in q1])/len(q1)"
   ]
  },
  {
   "cell_type": "code",
   "execution_count": 660,
   "metadata": {},
   "outputs": [
    {
     "data": {
      "text/plain": [
       "0.9479666666666672"
      ]
     },
     "execution_count": 660,
     "metadata": {},
     "output_type": "execute_result"
    },
    {
     "data": {
      "image/png": "[encoded data removed]",
      "text/plain": [
       "<Figure size 432x288 with 1 Axes>"
      ]
     },
     "metadata": {
      "needs_background": "light"
     },
     "output_type": "display_data"
    }
   ],
   "source": [
    "#for l in q2:\n",
    "#    plt.plot(l)\n",
    "means = np.array(q2).mean(0)\n",
    "stds = np.array(q2).std(0)\n",
    "plt.plot(means)\n",
    "plt.fill_between(range(len(means)),means-stds,means+stds,alpha=.1)\n",
    "sum([sum(a[-30:])/30 for a in q2])/len(q2)"
   ]
  },
  {
   "cell_type": "code",
   "execution_count": 661,
   "metadata": {},
   "outputs": [
    {
     "data": {
      "text/plain": [
       "0.8260666666666671"
      ]
     },
     "execution_count": 661,
     "metadata": {},
     "output_type": "execute_result"
    },
    {
     "data": {
      "image/png": "[encoded data removed]",
      "text/plain": [
       "<Figure size 432x288 with 1 Axes>"
      ]
     },
     "metadata": {
      "needs_background": "light"
     },
     "output_type": "display_data"
    }
   ],
   "source": [
    "#for l in q3:\n",
    "#    plt.plot(l)\n",
    "means = np.array(q3).mean(0)\n",
    "stds = np.array(q3).std(0)\n",
    "plt.plot(means)\n",
    "plt.fill_between(range(len(means)),means-stds,means+stds,alpha=.1)\n",
    "sum([sum(a[-30:])/30 for a in q3])/len(q3)"
   ]
  },
  {
   "cell_type": "code",
   "execution_count": 522,
   "metadata": {},
   "outputs": [
    {
     "data": {
      "text/plain": [
       "9"
      ]
     },
     "execution_count": 522,
     "metadata": {},
     "output_type": "execute_result"
    }
   ],
   "source": []
  },
  {
   "cell_type": "code",
   "execution_count": null,
   "metadata": {},
   "outputs": [],
   "source": []
  },
  {
   "cell_type": "code",
   "execution_count": null,
   "metadata": {},
   "outputs": [],
   "source": []
  },
  {
   "cell_type": "code",
   "execution_count": null,
   "metadata": {},
   "outputs": [],
   "source": []
  },
  {
   "cell_type": "code",
   "execution_count": null,
   "metadata": {},
   "outputs": [],
   "source": []
  },
  {
   "cell_type": "code",
   "execution_count": null,
   "metadata": {},
   "outputs": [],
   "source": []
  },
  {
   "cell_type": "code",
   "execution_count": null,
   "metadata": {},
   "outputs": [],
   "source": []
  },
  {
   "cell_type": "code",
   "execution_count": null,
   "metadata": {},
   "outputs": [],
   "source": []
  },
  {
   "cell_type": "code",
   "execution_count": null,
   "metadata": {},
   "outputs": [],
   "source": []
  },
  {
   "cell_type": "code",
   "execution_count": null,
   "metadata": {},
   "outputs": [],
   "source": []
  },
  {
   "cell_type": "code",
   "execution_count": null,
   "metadata": {},
   "outputs": [],
   "source": []
  },
  {
   "cell_type": "code",
   "execution_count": null,
   "metadata": {},
   "outputs": [],
   "source": []
  },
  {
   "cell_type": "markdown",
   "metadata": {},
   "source": [
    "\n",
    "\n",
    "\n",
    "\n",
    "\n",
    "\n",
    "\n"
   ]
  },
  {
   "cell_type": "code",
   "execution_count": null,
   "metadata": {},
   "outputs": [],
   "source": []
  }
 ],
 "metadata": {
  "kernelspec": {
   "display_name": "Python 3",
   "language": "python",
   "name": "python3"
  },
  "language_info": {
   "codemirror_mode": {
    "name": "ipython",
    "version": 3
   },
   "file_extension": ".py",
   "mimetype": "text/x-python",
   "name": "python",
   "nbconvert_exporter": "python",
   "pygments_lexer": "ipython3",
   "version": "3.7.6"
  }
 },
 "nbformat": 4,
 "nbformat_minor": 4
}
