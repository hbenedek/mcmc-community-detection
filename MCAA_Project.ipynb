{
 "cells": [
  {
   "cell_type": "code",
   "execution_count": 4,
   "metadata": {},
   "outputs": [],
   "source": [
    "import numpy as np\n",
    "import networkx as nx\n",
    "import random"
   ]
  },
  {
   "cell_type": "code",
   "execution_count": 5,
   "metadata": {},
   "outputs": [],
   "source": [
    "# Number of nodes in graph\n",
    "N = 1000\n",
    "\n",
    "# Restrictions for this project are : a > b.\n",
    "# If (a - b)^2 <= 2(a + b) then the communities \n",
    "# cannot be detected when n goes to infinity.\n",
    "a = 35\n",
    "b = 20\n",
    "\n",
    "# creates a random vector x*\n",
    "def create_x(N):\n",
    "    x = np.ones(N, dtype=int)\n",
    "    for i in range(N):\n",
    "        if random.random() < 1/2:\n",
    "            x[i] = -1\n",
    "    return x\n",
    "\n",
    "# Create a graph, given the paraemetrs\n",
    "def create_graph(N, a, b, x):\n",
    "    G = nx.Graph()\n",
    "    G.add_nodes_from([range(N)])\n",
    "\n",
    "    # Add edges\n",
    "    for j in range(N):\n",
    "        for i in range(j):\n",
    "            if x[i]*x[j] == 1:\n",
    "                if random.random() < a/N:\n",
    "                    G.add_edge(i, j)\n",
    "            else:\n",
    "                if random.random() < b/N:\n",
    "                    G.add_edge(i, j)   \n",
    "    return G"
   ]
  },
  {
   "cell_type": "code",
   "execution_count": null,
   "metadata": {},
   "outputs": [],
   "source": []
  },
  {
   "cell_type": "code",
   "execution_count": null,
   "metadata": {},
   "outputs": [],
   "source": []
  }
 ],
 "metadata": {
  "kernelspec": {
   "display_name": "Python 3",
   "language": "python",
   "name": "python3"
  },
  "language_info": {
   "codemirror_mode": {
    "name": "ipython",
    "version": 3
   },
   "file_extension": ".py",
   "mimetype": "text/x-python",
   "name": "python",
   "nbconvert_exporter": "python",
   "pygments_lexer": "ipython3",
   "version": "3.8.5"
  }
 },
 "nbformat": 4,
 "nbformat_minor": 4
}
